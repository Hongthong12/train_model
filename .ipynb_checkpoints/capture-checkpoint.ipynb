{
 "cells": [
  {
   "cell_type": "code",
   "execution_count": 1,
   "metadata": {},
   "outputs": [
    {
     "name": "stdout",
     "output_type": "stream",
     "text": [
      "Captured and saved C:\\Users\\hfhon\\OneDrive\\Desktop\\train_model\\DATASET\\ແມວ\\image_0000.jpg\n",
      "Captured and saved C:\\Users\\hfhon\\OneDrive\\Desktop\\train_model\\DATASET\\ແມວ\\image_0001.jpg\n",
      "Captured and saved C:\\Users\\hfhon\\OneDrive\\Desktop\\train_model\\DATASET\\ແມວ\\image_0002.jpg\n",
      "Captured and saved C:\\Users\\hfhon\\OneDrive\\Desktop\\train_model\\DATASET\\ແມວ\\image_0003.jpg\n",
      "Captured and saved C:\\Users\\hfhon\\OneDrive\\Desktop\\train_model\\DATASET\\ແມວ\\image_0004.jpg\n"
     ]
    }
   ],
   "source": [
    "\n",
    "import cv2\n",
    "import os\n",
    "import time\n",
    "\n",
    "def create_directory(path):\n",
    "    if not os.path.exists(path):\n",
    "        os.makedirs(path)\n",
    "\n",
    "def capture_images_from_video(save_dir, capture_interval=2, max_images=100):\n",
    "    # Create directory to save images if it doesn't exist\n",
    "    create_directory(save_dir)\n",
    "\n",
    "    # Open the video stream (0 is the default camera)\n",
    "    cap = cv2.VideoCapture(0)\n",
    "\n",
    "    if not cap.isOpened():\n",
    "        print(\"Error: Could not open video stream.\")\n",
    "        return\n",
    "\n",
    "    # Set video width and height\n",
    "    cap.set(cv2.CAP_PROP_FRAME_WIDTH, 640)\n",
    "    cap.set(cv2.CAP_PROP_FRAME_HEIGHT, 480)\n",
    "\n",
    "    image_count = 0\n",
    "\n",
    "    try:\n",
    "        while image_count < max_images:\n",
    "            # Capture frame-by-frame\n",
    "            ret, frame = cap.read()\n",
    "            if not ret:\n",
    "                print(\"Error: Failed to capture image.\")\n",
    "                break\n",
    "\n",
    "            # Display the frame\n",
    "            cv2.imshow('Video Stream', frame)\n",
    "\n",
    "            # Save the frame as an image\n",
    "            image_path = os.path.join(save_dir, f'image_{image_count:04d}.jpg')\n",
    "            cv2.imwrite(image_path, frame)\n",
    "            print(f'Captured and saved {image_path}')\n",
    "            image_count += 1\n",
    "\n",
    "            # Wait for capture_interval seconds\n",
    "            time.sleep(capture_interval)\n",
    "\n",
    "            # Break the loop if 'q' is pressed\n",
    "            if cv2.waitKey(1) & 0xFF == ord('q'):\n",
    "                break\n",
    "\n",
    "    finally:\n",
    "        # Release the video capture object and close all OpenCV windows\n",
    "        cap.release()\n",
    "        cv2.destroyAllWindows()\n",
    "\n",
    "if __name__ == \"__main__\":\n",
    "    # Example of a relative path\n",
    "    save_directory = \"C:\\\\Users\\\\hfhon\\\\OneDrive\\\\Desktop\\\\train_model\\\\DATASET\\\\ແມວ\"\n",
    "    \n",
    "    # Example of an absolute path (uncomment and modify the line below if you want to use an absolute path)\n",
    "    # save_directory = \"C:/path/to/your/directory/captured_images\"\n",
    "    \n",
    "    capture_interval_seconds = 2  # Capture an image every 2 seconds\n",
    "    max_images_to_capture = 5\n",
    "\n",
    "    capture_images_from_video(save_directory, capture_interval_seconds, max_images_to_capture)\n",
    "\n"
   ]
  },
  {
   "cell_type": "code",
   "execution_count": null,
   "metadata": {},
   "outputs": [],
   "source": []
  }
 ],
 "metadata": {
  "kernelspec": {
   "display_name": "Python 3 (ipykernel)",
   "language": "python",
   "name": "python3"
  },
  "language_info": {
   "codemirror_mode": {
    "name": "ipython",
    "version": 3
   },
   "file_extension": ".py",
   "mimetype": "text/x-python",
   "name": "python",
   "nbconvert_exporter": "python",
   "pygments_lexer": "ipython3",
   "version": "3.11.7"
  }
 },
 "nbformat": 4,
 "nbformat_minor": 2
}
