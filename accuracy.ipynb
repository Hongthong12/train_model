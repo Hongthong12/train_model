{
 "cells": [
  {
   "cell_type": "code",
   "execution_count": 10,
   "metadata": {},
   "outputs": [
    {
     "name": "stderr",
     "output_type": "stream",
     "text": [
      "C:\\Users\\hfhon\\AppData\\Local\\Packages\\PythonSoftwareFoundation.Python.3.12_qbz5n2kfra8p0\\LocalCache\\local-packages\\Python312\\site-packages\\google\\protobuf\\symbol_database.py:55: UserWarning: SymbolDatabase.GetPrototype() is deprecated. Please use message_factory.GetMessageClass() instead. SymbolDatabase.GetPrototype() will be removed soon.\n",
      "  warnings.warn('SymbolDatabase.GetPrototype() is deprecated. Please '\n"
     ]
    },
    {
     "ename": "ValueError",
     "evalue": "invalid literal for int() with base 10: 'yrnyung'",
     "output_type": "error",
     "traceback": [
      "\u001b[1;31m---------------------------------------------------------------------------\u001b[0m",
      "\u001b[1;31mValueError\u001b[0m                                Traceback (most recent call last)",
      "Cell \u001b[1;32mIn[10], line 65\u001b[0m\n\u001b[0;32m     63\u001b[0m \u001b[38;5;66;03m# Load test data\u001b[39;00m\n\u001b[0;32m     64\u001b[0m dataset_dir \u001b[38;5;241m=\u001b[39m \u001b[38;5;124mr\u001b[39m\u001b[38;5;124m\"\u001b[39m\u001b[38;5;124mC:\u001b[39m\u001b[38;5;124m\\\u001b[39m\u001b[38;5;124mUsers\u001b[39m\u001b[38;5;124m\\\u001b[39m\u001b[38;5;124mhfhon\u001b[39m\u001b[38;5;124m\\\u001b[39m\u001b[38;5;124mOneDrive\u001b[39m\u001b[38;5;124m\\\u001b[39m\u001b[38;5;124mDesktop\u001b[39m\u001b[38;5;124m\\\u001b[39m\u001b[38;5;124mtrain_model\u001b[39m\u001b[38;5;124m\\\u001b[39m\u001b[38;5;124mtesting_dataset\u001b[39m\u001b[38;5;124m\"\u001b[39m\n\u001b[1;32m---> 65\u001b[0m X_test, y_test \u001b[38;5;241m=\u001b[39m \u001b[43mload_dataset\u001b[49m\u001b[43m(\u001b[49m\u001b[43mdataset_dir\u001b[49m\u001b[43m)\u001b[49m\n\u001b[0;32m     67\u001b[0m \u001b[38;5;66;03m# Evaluate the model\u001b[39;00m\n\u001b[0;32m     68\u001b[0m y_pred \u001b[38;5;241m=\u001b[39m svm\u001b[38;5;241m.\u001b[39mpredict(X_test)\n",
      "Cell \u001b[1;32mIn[10], line 35\u001b[0m, in \u001b[0;36mload_dataset\u001b[1;34m(dataset_dir)\u001b[0m\n\u001b[0;32m     32\u001b[0m         processed_image \u001b[38;5;241m=\u001b[39m image_processed(image)\n\u001b[0;32m     34\u001b[0m         X\u001b[38;5;241m.\u001b[39mappend(processed_image)\n\u001b[1;32m---> 35\u001b[0m         y\u001b[38;5;241m.\u001b[39mappend(\u001b[38;5;28;43mint\u001b[39;49m\u001b[43m(\u001b[49m\u001b[43mlabel\u001b[49m\u001b[43m)\u001b[49m)  \u001b[38;5;66;03m# Convert the folder name to an integer label\u001b[39;00m\n\u001b[0;32m     37\u001b[0m X \u001b[38;5;241m=\u001b[39m np\u001b[38;5;241m.\u001b[39marray(X)\n\u001b[0;32m     38\u001b[0m y \u001b[38;5;241m=\u001b[39m np\u001b[38;5;241m.\u001b[39marray(y)\n",
      "\u001b[1;31mValueError\u001b[0m: invalid literal for int() with base 10: 'yrnyung'"
     ]
    }
   ],
   "source": [
    "import os\n",
    "import cv2\n",
    "import numpy as np\n",
    "import pickle\n",
    "from sklearn.metrics import accuracy_score, precision_score, recall_score, f1_score\n",
    "import mediapipe as mp\n",
    "\n",
    "def create_directory(path):\n",
    "    if not os.path.exists(path):\n",
    "        os.makedirs(path)\n",
    "\n",
    "def load_dataset(dataset_dir):\n",
    "    X = []\n",
    "    y = []\n",
    "    \n",
    "    # List of class labels (assuming folder names are the labels)\n",
    "    class_labels = sorted(os.listdir(dataset_dir))\n",
    "    \n",
    "    for label in class_labels:\n",
    "        label_dir = os.path.join(dataset_dir, label)\n",
    "        if not os.path.isdir(label_dir):\n",
    "            continue\n",
    "        \n",
    "        for img_filename in os.listdir(label_dir):\n",
    "            img_path = os.path.join(label_dir, img_filename)\n",
    "            image = cv2.imread(img_path)\n",
    "            \n",
    "            if image is None:\n",
    "                continue\n",
    "            \n",
    "            # Preprocess image (adjust based on your preprocessing function)\n",
    "            processed_image = image_processed(image)\n",
    "            \n",
    "            X.append(processed_image)\n",
    "            y.append(int(label))  # Convert the folder name to an integer label\n",
    "    \n",
    "    X = np.array(X)\n",
    "    y = np.array(y)\n",
    "    \n",
    "    return X, y\n",
    "\n",
    "def image_processed(hand_img):\n",
    "    img_rgb = cv2.cvtColor(hand_img, cv2.COLOR_BGR2RGB)\n",
    "    img_flip = cv2.flip(img_rgb, 1)\n",
    "    mp_hands = mp.solutions.hands\n",
    "    hands = mp_hands.Hands(static_image_mode=True, max_num_hands=1, min_detection_confidence=0.7)\n",
    "    output = hands.process(img_flip)\n",
    "    hands.close()\n",
    "    try:\n",
    "        data = output.multi_hand_landmarks[0]\n",
    "        data = str(data).strip().split('\\n')\n",
    "        garbage = ['landmark {', '  visibility: 0.0', '  presence: 0.0', '}']\n",
    "        without_garbage = [i for i in data if i not in garbage]\n",
    "        clean = [float(i[2:].strip()) for i in without_garbage]\n",
    "        return clean\n",
    "    except:\n",
    "        return np.zeros([1,63], dtype=int)[0]\n",
    "\n",
    "# Load your trained model\n",
    "with open('model_mckiler.pkl', 'rb') as f:\n",
    "    svm = pickle.load(f)\n",
    "\n",
    "# Load test data\n",
    "dataset_dir = r\"C:\\Users\\hfhon\\OneDrive\\Desktop\\train_model\\testing_dataset\"\n",
    "X_test, y_test = load_dataset(dataset_dir)\n",
    "\n",
    "# Evaluate the model\n",
    "y_pred = svm.predict(X_test)\n",
    "\n",
    "accuracy = accuracy_score(y_test, y_pred)\n",
    "precision = precision_score(y_test, y_pred, average='weighted')\n",
    "recall = recall_score(y_test, y_pred, average='weighted')\n",
    "f1 = f1_score(y_test, y_pred, average='weighted')\n",
    "\n",
    "print(f\"Accuracy: {accuracy}\")\n",
    "print(f\"Precision: {precision}\")\n",
    "print(f\"Recall: {recall}\")\n",
    "print(f\"F1 Score: {f1}\")\n"
   ]
  }
 ],
 "metadata": {
  "kernelspec": {
   "display_name": "Python 3",
   "language": "python",
   "name": "python3"
  },
  "language_info": {
   "codemirror_mode": {
    "name": "ipython",
    "version": 3
   },
   "file_extension": ".py",
   "mimetype": "text/x-python",
   "name": "python",
   "nbconvert_exporter": "python",
   "pygments_lexer": "ipython3",
   "version": "3.12.3"
  }
 },
 "nbformat": 4,
 "nbformat_minor": 2
}
